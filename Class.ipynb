{
  "nbformat": 4,
  "nbformat_minor": 0,
  "metadata": {
    "colab": {
      "provenance": [],
      "authorship_tag": "ABX9TyOuIUQf9zWMPpgNbBSJ7yA2",
      "include_colab_link": true
    },
    "kernelspec": {
      "name": "python3",
      "display_name": "Python 3"
    },
    "language_info": {
      "name": "python"
    }
  },
  "cells": [
    {
      "cell_type": "markdown",
      "metadata": {
        "id": "view-in-github",
        "colab_type": "text"
      },
      "source": [
        "<a href=\"https://colab.research.google.com/github/Kanishkan-B/Ad-Click-Through-Rate-Analysis/blob/main/Class.ipynb\" target=\"_parent\"><img src=\"https://colab.research.google.com/assets/colab-badge.svg\" alt=\"Open In Colab\"/></a>"
      ]
    },
    {
      "cell_type": "code",
      "execution_count": null,
      "metadata": {
        "colab": {
          "base_uri": "https://localhost:8080/"
        },
        "id": "-icuwpIxXJCn",
        "outputId": "2cc908ca-b3a1-40f1-e390-5311ce6e3a9e"
      },
      "outputs": [
        {
          "output_type": "stream",
          "name": "stdout",
          "text": [
            "3\n",
            "6\n",
            "3.0\n",
            "1.0\n"
          ]
        }
      ],
      "source": [
        "a = 1\n",
        "a+=2   # this lines is expressing a = a + 2.\n",
        "print(a)\n",
        "a*=2   # this lines is expressing a = a * 2.\n",
        "print(a)\n",
        "a/=2   # this lines is expressing a = a / 2.\n",
        "print(a)\n",
        "a-=2   # this lines is expressing a = a - 2.\n",
        "print(a)"
      ]
    },
    {
      "cell_type": "code",
      "source": [
        "a = 10\n",
        "b = 20\n",
        "\n",
        "print(a>b)\n",
        "print(a<b)\n",
        "print(a<=b)\n",
        "print(a>=b)\n",
        "print(a==b)\n",
        "print(a!=b)"
      ],
      "metadata": {
        "colab": {
          "base_uri": "https://localhost:8080/"
        },
        "id": "9YN-rANuXLkc",
        "outputId": "f8470cbe-9087-4a52-9cfe-05d4739b75bf"
      },
      "execution_count": null,
      "outputs": [
        {
          "output_type": "stream",
          "name": "stdout",
          "text": [
            "False\n",
            "True\n",
            "True\n",
            "False\n",
            "False\n",
            "True\n"
          ]
        }
      ]
    },
    {
      "cell_type": "code",
      "source": [
        "a = 10\n",
        "b = 20\n",
        "c = 30\n",
        "\n",
        "print(a>b>c)\n",
        "print(a<b>c)\n",
        "print(a>b<c)\n",
        "print(a<b<c)\n",
        "print(a<=b)\n",
        "print(a>=b>=c)\n",
        "print(a<=b>=c)\n",
        "print(a>=b<=c)\n",
        "print(a>=b<=c)\n",
        "print(a==b==c)\n",
        "print(a!=b==c)\n",
        "print(a!=b!=c)"
      ],
      "metadata": {
        "colab": {
          "base_uri": "https://localhost:8080/"
        },
        "id": "B-w28dLVatx9",
        "outputId": "de90250e-9a5a-43f3-87e0-9d298ea9582a"
      },
      "execution_count": null,
      "outputs": [
        {
          "output_type": "stream",
          "name": "stdout",
          "text": [
            "False\n",
            "False\n",
            "False\n",
            "True\n",
            "True\n",
            "False\n",
            "False\n",
            "False\n",
            "False\n",
            "False\n",
            "False\n",
            "True\n"
          ]
        }
      ]
    },
    {
      "cell_type": "code",
      "source": [
        "a = int(input(\"Enter number A: \"))\n",
        "b = int(input(\"Enter number B: \"))\n",
        "\n",
        "print(f\"the Addtion of the number is {a+b}\")\n",
        "print(f\"the Subtraction of the number is {a-b}\")\n",
        "print(f\"the Multiplication of the number is {a*b}\")\n",
        "print(f\"the Division of the number is {a/b}\")"
      ],
      "metadata": {
        "colab": {
          "base_uri": "https://localhost:8080/"
        },
        "id": "bWdLhmUZb7aa",
        "outputId": "d5170339-8594-4aef-c63f-1e2d86abcc68"
      },
      "execution_count": null,
      "outputs": [
        {
          "output_type": "stream",
          "name": "stdout",
          "text": [
            "Enter number A: 10\n",
            "Enter number B: 20\n",
            "the Addtion of the number is 30\n",
            "the Subtraction of the number is -10\n",
            "the Multiplication of the number is 200\n",
            "the Division of the number is 0.5\n"
          ]
        }
      ]
    },
    {
      "cell_type": "code",
      "source": [
        "a = 2\n",
        "b = 3\n",
        "c = a & b\n",
        "print(c)"
      ],
      "metadata": {
        "colab": {
          "base_uri": "https://localhost:8080/"
        },
        "id": "hxvMAAhEhWc3",
        "outputId": "0f4041bf-7e15-4d80-a1f5-78b4080d0b5b"
      },
      "execution_count": null,
      "outputs": [
        {
          "output_type": "stream",
          "name": "stdout",
          "text": [
            "2\n"
          ]
        }
      ]
    },
    {
      "cell_type": "code",
      "source": [
        "a = 10\n",
        "\n",
        "a&=2\n",
        "\n",
        "a"
      ],
      "metadata": {
        "colab": {
          "base_uri": "https://localhost:8080/"
        },
        "id": "DnZKZSwDrIZ6",
        "outputId": "f9b5f264-b9e3-4bec-9f56-af7d78e10683"
      },
      "execution_count": null,
      "outputs": [
        {
          "output_type": "execute_result",
          "data": {
            "text/plain": [
              "2"
            ]
          },
          "metadata": {},
          "execution_count": 12
        }
      ]
    },
    {
      "cell_type": "code",
      "source": [
        "a = 3\n",
        "a<=2\n",
        "a"
      ],
      "metadata": {
        "colab": {
          "base_uri": "https://localhost:8080/"
        },
        "id": "MyQJsaS7rvTb",
        "outputId": "53a90771-a2e8-4038-83ff-af372dc3d22a"
      },
      "execution_count": null,
      "outputs": [
        {
          "output_type": "execute_result",
          "data": {
            "text/plain": [
              "3"
            ]
          },
          "metadata": {},
          "execution_count": 17
        }
      ]
    },
    {
      "cell_type": "code",
      "source": [
        "a&=10"
      ],
      "metadata": {
        "id": "21tAHp6pwJbG"
      },
      "execution_count": null,
      "outputs": []
    },
    {
      "cell_type": "code",
      "source": [
        "a"
      ],
      "metadata": {
        "colab": {
          "base_uri": "https://localhost:8080/"
        },
        "id": "tc5Ggg8uxiBq",
        "outputId": "3a76bd6f-1950-4a5b-b579-3b5ec20e1453"
      },
      "execution_count": null,
      "outputs": [
        {
          "output_type": "execute_result",
          "data": {
            "text/plain": [
              "2"
            ]
          },
          "metadata": {},
          "execution_count": 19
        }
      ]
    },
    {
      "cell_type": "code",
      "source": [
        "A = 10\n",
        "A |= 2"
      ],
      "metadata": {
        "id": "bwQfyUu9xi_V"
      },
      "execution_count": null,
      "outputs": []
    },
    {
      "cell_type": "code",
      "source": [
        "A"
      ],
      "metadata": {
        "colab": {
          "base_uri": "https://localhost:8080/"
        },
        "id": "U1BjQdedzeoz",
        "outputId": "1d32055b-e95f-4ee0-a60e-c4dffd999014"
      },
      "execution_count": null,
      "outputs": [
        {
          "output_type": "execute_result",
          "data": {
            "text/plain": [
              "10"
            ]
          },
          "metadata": {},
          "execution_count": 21
        }
      ]
    },
    {
      "cell_type": "code",
      "source": [
        "a = 3\n",
        "a<=2"
      ],
      "metadata": {
        "colab": {
          "base_uri": "https://localhost:8080/"
        },
        "id": "T91ISDcazfI_",
        "outputId": "4f78bdfc-3c5c-4302-f4c1-1db097ed8a74"
      },
      "execution_count": null,
      "outputs": [
        {
          "output_type": "execute_result",
          "data": {
            "text/plain": [
              "False"
            ]
          },
          "metadata": {},
          "execution_count": 22
        }
      ]
    },
    {
      "cell_type": "code",
      "source": [
        "a = \"rh\""
      ],
      "metadata": {
        "id": "TlHVfe4e0hgX"
      },
      "execution_count": null,
      "outputs": []
    },
    {
      "cell_type": "code",
      "source": [
        "a"
      ],
      "metadata": {
        "colab": {
          "base_uri": "https://localhost:8080/",
          "height": 36
        },
        "id": "6D9PMhzT2e4u",
        "outputId": "b9702062-fc85-43e2-8c03-26a836b719d5"
      },
      "execution_count": null,
      "outputs": [
        {
          "output_type": "execute_result",
          "data": {
            "text/plain": [
              "'rh'"
            ],
            "application/vnd.google.colaboratory.intrinsic+json": {
              "type": "string"
            }
          },
          "metadata": {},
          "execution_count": 2
        }
      ]
    },
    {
      "cell_type": "code",
      "source": [
        "a = int(10)"
      ],
      "metadata": {
        "id": "HG1uMwQA2kO4"
      },
      "execution_count": null,
      "outputs": []
    },
    {
      "cell_type": "code",
      "source": [
        "a = int(input(\"Enter the first value: \"))\n",
        "b = int(input(\"Enter the second value: \"))\n",
        "\n",
        "print(a^b)"
      ],
      "metadata": {
        "id": "uzV4VElo284G",
        "colab": {
          "base_uri": "https://localhost:8080/"
        },
        "outputId": "684b6638-e9c0-4ed0-c703-e76ec7f8940c"
      },
      "execution_count": null,
      "outputs": [
        {
          "output_type": "stream",
          "name": "stdout",
          "text": [
            "Enter the first value: 0\n",
            "Enter the second value: 1\n",
            "1\n"
          ]
        }
      ]
    },
    {
      "cell_type": "code",
      "source": [
        "Value = int(input(\"Enter the value to be predicted: \"))\n",
        "\n",
        "if Value %2 == 0:\n",
        "  print(f\"The number {Value} you have entered is Even.\")\n",
        "else:\n",
        "  print(f\"The number {Value} you have entered is Odd.\")"
      ],
      "metadata": {
        "id": "158zoHWp5p0l",
        "colab": {
          "base_uri": "https://localhost:8080/"
        },
        "outputId": "bacad351-f0df-4043-b2c5-cc4500f72a8c"
      },
      "execution_count": null,
      "outputs": [
        {
          "output_type": "stream",
          "name": "stdout",
          "text": [
            "Enter the value to be predicted: 2\n",
            "The number 2 you have entered is Even.\n"
          ]
        }
      ]
    },
    {
      "cell_type": "code",
      "source": [
        "Num_1 = int(input(\"Enter the value: \"))\n",
        "\n",
        "while Num_1 > 0:\n",
        "\n",
        "  Num_1-=1\n",
        "\n",
        "  print(f\"The number of iteration is:{Num_1}\")\n"
      ],
      "metadata": {
        "colab": {
          "base_uri": "https://localhost:8080/"
        },
        "id": "CiNNdlwE9fLZ",
        "outputId": "44f6dbb3-c2aa-4171-9874-3dd3fd81d81c"
      },
      "execution_count": null,
      "outputs": [
        {
          "output_type": "stream",
          "name": "stdout",
          "text": [
            "Enter the value: 10\n",
            "The number of iteration is:9\n",
            "The number of iteration is:8\n",
            "The number of iteration is:7\n",
            "The number of iteration is:6\n",
            "The number of iteration is:5\n",
            "The number of iteration is:4\n",
            "The number of iteration is:3\n",
            "The number of iteration is:2\n",
            "The number of iteration is:1\n",
            "The number of iteration is:0\n"
          ]
        }
      ]
    },
    {
      "cell_type": "code",
      "source": [
        "num = int(input(\"Enter the value: \"))\n",
        "while num <= 30:\n",
        "  if num %3 == 0:\n",
        "    print(f\"The number {num}.\")\n",
        "  num+=1"
      ],
      "metadata": {
        "colab": {
          "base_uri": "https://localhost:8080/"
        },
        "id": "5OQFu9vpEp5E",
        "outputId": "8de8f100-27b4-4dd5-d029-0390f4849de0"
      },
      "execution_count": null,
      "outputs": [
        {
          "output_type": "stream",
          "name": "stdout",
          "text": [
            "Enter the value: 1\n",
            "The number 3.\n",
            "The number 6.\n",
            "The number 9.\n",
            "The number 12.\n",
            "The number 15.\n",
            "The number 18.\n",
            "The number 21.\n",
            "The number 24.\n",
            "The number 27.\n",
            "The number 30.\n"
          ]
        }
      ]
    },
    {
      "cell_type": "code",
      "source": [
        "for i in range(3,31,3):\n",
        "  print(\"The multiplication of 3 table is \",i)"
      ],
      "metadata": {
        "colab": {
          "base_uri": "https://localhost:8080/"
        },
        "id": "bSAruJDCGUHD",
        "outputId": "c3a0cadd-1733-4fbf-db41-1f7e7113d277"
      },
      "execution_count": null,
      "outputs": [
        {
          "output_type": "stream",
          "name": "stdout",
          "text": [
            "The multiplication of 3 table is  3\n",
            "The multiplication of 3 table is  6\n",
            "The multiplication of 3 table is  9\n",
            "The multiplication of 3 table is  12\n",
            "The multiplication of 3 table is  15\n",
            "The multiplication of 3 table is  18\n",
            "The multiplication of 3 table is  21\n",
            "The multiplication of 3 table is  24\n",
            "The multiplication of 3 table is  27\n",
            "The multiplication of 3 table is  30\n"
          ]
        }
      ]
    },
    {
      "cell_type": "code",
      "source": [
        "input_value = int(input(\"Enter a Number: \"))\n",
        "div_2= input_value%2\n",
        "div_3= input_value%3\n",
        "\n",
        "if div_2==0 and div_3==0:\n",
        "    print(\"Divisible By 2,3\")\n",
        "elif div_2==0:\n",
        "    print(\"Divisible by 2\")\n",
        "elif div_3==0:\n",
        "    print(\"Divisible by 3\")\n",
        "else:\n",
        "    print(\"Not divisible by 2,3\")"
      ],
      "metadata": {
        "colab": {
          "base_uri": "https://localhost:8080/"
        },
        "id": "e_GRq_GOKjAT",
        "outputId": "d873bdc8-55da-41bf-d864-3d5010961da4"
      },
      "execution_count": null,
      "outputs": [
        {
          "output_type": "stream",
          "name": "stdout",
          "text": [
            "Enter a Number: 10\n",
            "Divisible by 2\n"
          ]
        }
      ]
    },
    {
      "cell_type": "code",
      "source": [
        "score = int(input(\"Enter the marks you have scored \"))\n",
        "\n",
        "if score >= 60:\n",
        "    print(\"You passed!\")\n",
        "\n",
        "    if score <= 100 and score >= 90:\n",
        "        print(\"Your grade is A\")\n",
        "    elif score <= 89 and score >= 70:\n",
        "        print(\"Your grade is B\")\n",
        "    elif score <= 69 and score >= 50:\n",
        "        print(\"Your grade is C\")\n",
        "    else:\n",
        "        print(\"Your grade is D\")\n",
        "else:\n",
        "    print(\"You failed!\")"
      ],
      "metadata": {
        "colab": {
          "base_uri": "https://localhost:8080/"
        },
        "id": "M1TxoLJdUtpL",
        "outputId": "cf78abe3-fca6-4051-bcf2-ffe7c59c7a2f"
      },
      "execution_count": null,
      "outputs": [
        {
          "output_type": "stream",
          "name": "stdout",
          "text": [
            "Enter the marks you have scored 89\n",
            "You passed!\n",
            "Your grade is B\n"
          ]
        }
      ]
    },
    {
      "cell_type": "code",
      "source": [
        "#Write a program that determines the age category of a person based on their age:\n",
        "#Child: 0-12 years,Teenager: 13-19 years,Adult: 20-64 years,Senior: 65 years and above\n",
        "\n",
        "age_category = int(input(\"Enter your age: \"))\n",
        "\n",
        "if age_category >= 0 and age_category <= 12:\n",
        "\n",
        "    print(f\"Your age is {age_category} and you are a Child.\")\n",
        "\n",
        "elif age_category >= 13 and age_category <= 19:\n",
        "\n",
        "    print(f\"Your age is {age_category} and you are a Teenager.\")\n",
        "\n",
        "elif age_category >= 20 and age_category <= 64:\n",
        "\n",
        "    print(f\"Your age is {age_category} and you are a Adult.\")\n",
        "else:\n",
        "    print(f\"Your age is {age_category} and you are a Senior.\")"
      ],
      "metadata": {
        "colab": {
          "base_uri": "https://localhost:8080/"
        },
        "id": "y0hRENyZW5TN",
        "outputId": "3cda6f1f-c518-4f5f-c76c-306fc09ac1d6"
      },
      "execution_count": null,
      "outputs": [
        {
          "output_type": "stream",
          "name": "stdout",
          "text": [
            "Enter your age: 30\n",
            "Your age is 30 and you are a Adult.\n"
          ]
        }
      ]
    },
    {
      "cell_type": "code",
      "source": [
        "number_of_the_day = int(input(\"Enter the number of the day: \"))\n",
        "\n",
        "if number_of_the_day == 1:\n",
        "    print(\"The day you have Entered is Monday\")\n",
        "elif number_of_the_day == 2:\n",
        "    print(\"The day you have Entered is Tuesday\")\n",
        "elif number_of_the_day == 3:\n",
        "    print(\"The day you have Entered is Wednesday\")\n",
        "elif number_of_the_day == 4:\n",
        "    print(\"The day you have Entered is Thursday\")\n",
        "elif number_of_the_day == 5:\n",
        "    print(\"The day you have Entered is Friday\")\n",
        "elif number_of_the_day == 6:\n",
        "    print(\"The day you have Entered is Saturday\")\n",
        "elif number_of_the_day == 7:\n",
        "    print(\"The day you have Entered is Sunday\")"
      ],
      "metadata": {
        "colab": {
          "base_uri": "https://localhost:8080/"
        },
        "id": "wdSUm4MlblU-",
        "outputId": "c5672b06-a12a-45b5-be39-7fdab7aed484"
      },
      "execution_count": null,
      "outputs": [
        {
          "output_type": "stream",
          "name": "stdout",
          "text": [
            "Enter the number of the day: 6\n",
            "The day you have Entered is Saturday\n"
          ]
        }
      ]
    },
    {
      "cell_type": "code",
      "source": [
        "# name\n",
        "# len\n",
        "# loer\n",
        "# upper\n",
        "# lower\n",
        "# splt\n",
        "# split based on letter\n",
        "# eval()\n",
        "\n",
        "name = input(\"Enter your name: \")\n",
        "\n",
        "print(name.upper())\n",
        "\n",
        "print(name.lower())\n",
        "\n",
        "print(name.split('k'))\n",
        "\n",
        "print(len(name))\n",
        "\n",
        "print(name.split())\n"
      ],
      "metadata": {
        "id": "EE_X_SiQcawo",
        "colab": {
          "base_uri": "https://localhost:8080/"
        },
        "outputId": "385bce72-d57f-4c95-ae39-e53160250172"
      },
      "execution_count": null,
      "outputs": [
        {
          "output_type": "stream",
          "name": "stdout",
          "text": [
            "Enter your name: Kanishkan Preetha\n",
            "KANISHKAN PREETHA\n",
            "kanishkan preetha\n",
            "['Kanish', 'an Preetha']\n",
            "17\n",
            "['Kanishkan', 'Preetha']\n"
          ]
        }
      ]
    },
    {
      "cell_type": "code",
      "source": [
        "user_input = int(input(\"Enter a number: \"))\n",
        "\n",
        "if user_input >= 2 and user_input <= 5:\n",
        "  print(\"Shimla Manali Ooty.\")\n",
        "elif user_input >= 6 and user_input <= 9:\n",
        "  print(\"Lonavala Goa Kodai.\")\n",
        "elif user_input >= 10 and user_input <= 12 or user_input == 1:\n",
        "  print( \"Munnar Kulu Manali\")\n",
        "else:\n",
        "  print(\"Invalid Input\")"
      ],
      "metadata": {
        "colab": {
          "base_uri": "https://localhost:8080/"
        },
        "id": "Mw9-URd2GWx7",
        "outputId": "5ed34975-a2f4-40e1-e175-129d45d7683a"
      },
      "execution_count": null,
      "outputs": [
        {
          "output_type": "stream",
          "name": "stdout",
          "text": [
            "Enter a number: 55\n",
            "Invalid Input\n"
          ]
        }
      ]
    },
    {
      "cell_type": "code",
      "source": [
        "for i in range(0,20,2):\n",
        "    if i<10:\n",
        "        print(i)\n",
        "        continue\n",
        "    elif i==16:\n",
        "        break\n",
        "    else:\n",
        "        pass\n",
        "        print(i)"
      ],
      "metadata": {
        "colab": {
          "base_uri": "https://localhost:8080/"
        },
        "id": "j8Nux__XKRBG",
        "outputId": "4062e404-342a-4feb-84d1-23c7af7a64cc"
      },
      "execution_count": null,
      "outputs": [
        {
          "output_type": "stream",
          "name": "stdout",
          "text": [
            "0\n",
            "2\n",
            "4\n",
            "6\n",
            "8\n",
            "10\n",
            "12\n",
            "14\n"
          ]
        }
      ]
    },
    {
      "cell_type": "code",
      "source": [
        "user_height = input(\"Enter base and height: \")\n",
        "\n",
        "user_radius = input(\"Enter the radius: \")\n",
        "\n",
        "str_list = user_height.split(\" \")\n",
        "\n",
        "print(str_list)\n",
        "\n",
        "print(user_radius)"
      ],
      "metadata": {
        "colab": {
          "base_uri": "https://localhost:8080/"
        },
        "id": "NEmKHqgnTiUU",
        "outputId": "316b6744-9946-4bb0-e7ae-034993100be6"
      },
      "execution_count": null,
      "outputs": [
        {
          "output_type": "stream",
          "name": "stdout",
          "text": [
            "Enter base and height: 15 6\n",
            "Enter the radius: 30\n",
            "['15', '6']\n",
            "30\n"
          ]
        }
      ]
    },
    {
      "cell_type": "code",
      "source": [
        "str1 = \"PREETHAKANISHKAN\"\n",
        "print(\"K\"  in str1)\n",
        "print(\"DEF\" in str1)"
      ],
      "metadata": {
        "colab": {
          "base_uri": "https://localhost:8080/"
        },
        "id": "GAGCHX1YW0_G",
        "outputId": "9959253e-93bf-4e3f-ff93-00bc469ede5b"
      },
      "execution_count": null,
      "outputs": [
        {
          "output_type": "stream",
          "name": "stdout",
          "text": [
            "True\n",
            "False\n"
          ]
        }
      ]
    },
    {
      "cell_type": "code",
      "source": [
        "import math as m\n",
        "\n",
        "user_input = float(input(\"Enter a number: \"))\n",
        "\n",
        "print(f\"the square root is {m.sqrt(user_input)}\")\n",
        "print(round(user_input))\n",
        "print(round(user_input,2))\n",
        "print(round(user_input,3))\n",
        "print(m.pow(user_input,2))\n",
        "print(m.floor(user_input))\n",
        "print(m.ceil(user_input))"
      ],
      "metadata": {
        "colab": {
          "base_uri": "https://localhost:8080/"
        },
        "id": "ZknK3PqVZo0s",
        "outputId": "0543df2e-868d-48df-e45c-1cb06536f71d"
      },
      "execution_count": null,
      "outputs": [
        {
          "output_type": "stream",
          "name": "stdout",
          "text": [
            "Enter a number: 50.63\n",
            "the square root is 7.1154760908880865\n",
            "51\n",
            "50.63\n",
            "50.63\n",
            "2563.3969\n",
            "50\n",
            "51\n"
          ]
        }
      ]
    },
    {
      "cell_type": "code",
      "source": [
        "import math\n",
        "\n",
        "num = int(input(\"Enter a number: \"))\n",
        "result = math.sqrt(num)\n",
        "print(result)\n",
        "result = math.pow(num,num)\n",
        "print(result)\n",
        "result = math.factorial(3)\n",
        "print(result)\n",
        "str1 = \"abc\"\n",
        "str2 = \"123\"\n",
        "str3 = str1+str2\n",
        "print(str3)"
      ],
      "metadata": {
        "colab": {
          "base_uri": "https://localhost:8080/"
        },
        "id": "8fS5ywACbRE-",
        "outputId": "3c4a1798-b44f-4fd6-b789-f13d3b727cdc"
      },
      "execution_count": null,
      "outputs": [
        {
          "output_type": "stream",
          "name": "stdout",
          "text": [
            "Enter a number: 5\n",
            "2.23606797749979\n",
            "3125.0\n",
            "6\n",
            "abc123\n"
          ]
        }
      ]
    },
    {
      "cell_type": "code",
      "source": [
        "import math as M\n",
        "Radius = float (input (\"Please enter the radius of the given circle: \"))\n",
        "area_of_the_circle = M.pi* Radius * Radius\n",
        "print (f\" The area of the given circle is: {area_of_the_circle}\")"
      ],
      "metadata": {
        "colab": {
          "base_uri": "https://localhost:8080/"
        },
        "id": "o5Ad7DzIdexE",
        "outputId": "95fefd23-6d1b-4293-f6e2-ac937c5b7a93"
      },
      "execution_count": null,
      "outputs": [
        {
          "output_type": "stream",
          "name": "stdout",
          "text": [
            "Please enter the radius of the given circle: 10\n",
            " The area of the given circle is: 314.1592653589793\n"
          ]
        }
      ]
    },
    {
      "cell_type": "code",
      "source": [
        "# Data types."
      ],
      "metadata": {
        "id": "OP09Hwa4f9HM"
      },
      "execution_count": null,
      "outputs": []
    },
    {
      "cell_type": "code",
      "source": [
        "List = [1,3,5,7,'Kani','Cat','Ant',True,False,10.5,26.89]\n",
        "\n",
        "print(List)\n",
        "\n",
        "print(List[1:5])\n",
        "\n",
        "print(List[1:10:2])\n",
        "\n",
        "print(List[:])\n",
        "\n",
        "print(List[1:])\n",
        "\n",
        "print(List[:8])\n",
        "\n",
        "print(List[5])\n",
        "print(List[2::5])"
      ],
      "metadata": {
        "id": "CjkJMSNHNyBi",
        "colab": {
          "base_uri": "https://localhost:8080/"
        },
        "outputId": "6ca0b0de-7529-4e71-d8e2-e71e60d8127d"
      },
      "execution_count": null,
      "outputs": [
        {
          "output_type": "stream",
          "name": "stdout",
          "text": [
            "[1, 3, 5, 7, 'Kani', 'Cat', 'Ant', True, False, 10.5, 26.89]\n",
            "[3, 5, 7, 'Kani']\n",
            "[3, 7, 'Cat', True, 10.5]\n",
            "[1, 3, 5, 7, 'Kani', 'Cat', 'Ant', True, False, 10.5, 26.89]\n",
            "[3, 5, 7, 'Kani', 'Cat', 'Ant', True, False, 10.5, 26.89]\n",
            "[1, 3, 5, 7, 'Kani', 'Cat', 'Ant', True]\n",
            "Cat\n",
            "[5, True]\n"
          ]
        }
      ]
    },
    {
      "cell_type": "code",
      "source": [
        "List = [1,3,5,7,'Kani','Cat','Ant',True,False,10.5,26.89]\n",
        "\n",
        "List.insert(0,\"meow\")\n",
        "print(List)\n",
        "\n",
        "List.insert(-1,\"bow bow\")\n",
        "List\n",
        "\n",
        "List.insert(8,\"parrot\")\n",
        "List"
      ],
      "metadata": {
        "colab": {
          "base_uri": "https://localhost:8080/"
        },
        "id": "Mp6mto0jWOc3",
        "outputId": "249645a3-730c-4b68-b076-7dd9852fb77a"
      },
      "execution_count": null,
      "outputs": [
        {
          "output_type": "stream",
          "name": "stdout",
          "text": [
            "['meow', 1, 3, 5, 7, 'Kani', 'Cat', 'Ant', True, False, 10.5, 26.89]\n",
            "['meow', 1, 3, 5, 7, 'Kani', 'Cat', 'Ant', True, False, 10.5, 'bow bow', 26.89]\n",
            "['meow', 1, 3, 5, 7, 'Kani', 'Cat', 'Ant', 'parrot', True, False, 10.5, 'bow bow', 26.89]\n"
          ]
        }
      ]
    },
    {
      "cell_type": "code",
      "source": [
        "new_list = []\n",
        "\n",
        "for i in range(0,20,2):\n",
        "  new_list.append(i)\n",
        "  print(new_list)"
      ],
      "metadata": {
        "id": "srni8-5SZ-LL",
        "colab": {
          "base_uri": "https://localhost:8080/"
        },
        "outputId": "20b3029e-3d7a-464b-8f14-6a08dc9fcc24"
      },
      "execution_count": null,
      "outputs": [
        {
          "output_type": "stream",
          "name": "stdout",
          "text": [
            "[0]\n",
            "[0, 2]\n",
            "[0, 2, 4]\n",
            "[0, 2, 4, 6]\n",
            "[0, 2, 4, 6, 8]\n",
            "[0, 2, 4, 6, 8, 10]\n",
            "[0, 2, 4, 6, 8, 10, 12]\n",
            "[0, 2, 4, 6, 8, 10, 12, 14]\n",
            "[0, 2, 4, 6, 8, 10, 12, 14, 16]\n",
            "[0, 2, 4, 6, 8, 10, 12, 14, 16, 18]\n"
          ]
        }
      ]
    },
    {
      "cell_type": "code",
      "source": [
        "cat = [1,2,3,4,5,6,7,8,9,10]\n",
        "\n",
        "cat.extend([11,12,13,14,15])\n",
        "\n",
        "cat"
      ],
      "metadata": {
        "colab": {
          "base_uri": "https://localhost:8080/"
        },
        "id": "28uVtezfjLV_",
        "outputId": "c433b948-6e83-43dd-d7f9-aa32f8493d46"
      },
      "execution_count": null,
      "outputs": [
        {
          "output_type": "execute_result",
          "data": {
            "text/plain": [
              "[1, 2, 3, 4, 5, 6, 7, 8, 9, 10, 11, 12, 13, 14, 15]"
            ]
          },
          "metadata": {},
          "execution_count": 20
        }
      ]
    },
    {
      "cell_type": "code",
      "source": [
        "cat.append([16])\n",
        "\n",
        "cat"
      ],
      "metadata": {
        "colab": {
          "base_uri": "https://localhost:8080/"
        },
        "id": "sUpOx9vpkYNg",
        "outputId": "14451213-c742-4281-ad08-4d367b00d0c1"
      },
      "execution_count": null,
      "outputs": [
        {
          "output_type": "execute_result",
          "data": {
            "text/plain": [
              "[1, 2, 3, 4, 5, 6, 7, 8, 9, 10, 11, 12, 13, 14, 15, [16]]"
            ]
          },
          "metadata": {},
          "execution_count": 21
        }
      ]
    },
    {
      "cell_type": "code",
      "source": [
        "l1 = [1,3,'king','99.6',8,'cat','meow',9,'dog',4.89,'ant']\n",
        "    # 0 1    2      3   4   5      6    7   8     9    10\n",
        "# print(l1[5:0:-1])\n",
        "\n",
        "print(l1[9:2:-2]) #start:stop:jump"
      ],
      "metadata": {
        "id": "Nbd6lGzxl0Ye",
        "colab": {
          "base_uri": "https://localhost:8080/"
        },
        "outputId": "0434ef3f-0cf2-4043-fe8b-5676c56578c2"
      },
      "execution_count": null,
      "outputs": [
        {
          "output_type": "stream",
          "name": "stdout",
          "text": [
            "[4.89, 9, 'cat', '99.6']\n"
          ]
        }
      ]
    },
    {
      "cell_type": "code",
      "source": [
        "#Write a program to extract  first_and_last(lst) that takes a list and returns first and last element of the list.\n",
        "\n",
        "l1 = [1,3,'king','99.6',8,'cat','meow',9,'dog',4.89,'ant']\n",
        "\n",
        "print(l1[0::10])"
      ],
      "metadata": {
        "id": "SNvPcK7gYbgN",
        "colab": {
          "base_uri": "https://localhost:8080/"
        },
        "outputId": "05f03217-ea85-49ed-d145-776f04f31085"
      },
      "execution_count": null,
      "outputs": [
        {
          "output_type": "stream",
          "name": "stdout",
          "text": [
            "[1, 'ant']\n"
          ]
        }
      ]
    },
    {
      "cell_type": "code",
      "source": [
        "#Create a function slice_list(lst) that returns a slice of the list starting from index 2 to index 5 (exclusive).Expected output Output: [30, 40, 50]\n",
        "\n",
        "def slice_list():\n",
        "  l2 = [10,20,30,40,50,60,70,80,90]\n",
        "  print(l2[2:5])\n",
        "\n",
        "slice_list()"
      ],
      "metadata": {
        "colab": {
          "base_uri": "https://localhost:8080/"
        },
        "id": "PFWtSFt0VeXu",
        "outputId": "efc08438-c04e-4963-dca9-678435b21d72"
      },
      "execution_count": null,
      "outputs": [
        {
          "output_type": "stream",
          "name": "stdout",
          "text": [
            "[30, 40, 50]\n"
          ]
        }
      ]
    },
    {
      "cell_type": "code",
      "source": [
        "#Write a program takes a string and returns the reverse of the string using slicing.\n",
        "\n",
        "user_input = input(\"Enter a string: \")\n",
        "\n",
        "print(user_input[::-1])"
      ],
      "metadata": {
        "colab": {
          "base_uri": "https://localhost:8080/"
        },
        "id": "I0hIF2frV83a",
        "outputId": "e6184e13-3d77-4479-8dde-edf714187dd8"
      },
      "execution_count": null,
      "outputs": [
        {
          "output_type": "stream",
          "name": "stdout",
          "text": [
            "Enter a string: Kanishkan\n",
            "nakhsinaK\n"
          ]
        }
      ]
    },
    {
      "cell_type": "code",
      "source": [
        "#Write a program  that returns a list of every second element from the input list using slicing.\n",
        "\n",
        "user_input = input(\"Enter a string: \")\n",
        "\n",
        "print(user_input[1::2])"
      ],
      "metadata": {
        "colab": {
          "base_uri": "https://localhost:8080/"
        },
        "id": "VmpMJ7JnWHBm",
        "outputId": "334ed34c-b08c-4b13-f5b5-8d0baf17bb59"
      },
      "execution_count": null,
      "outputs": [
        {
          "output_type": "stream",
          "name": "stdout",
          "text": [
            "Enter a string: kanishkan\n",
            "aiha\n"
          ]
        }
      ]
    },
    {
      "cell_type": "code",
      "source": [
        "a = 10\n",
        "\n",
        "b = list(str(a))\n",
        "\n",
        "print(b)"
      ],
      "metadata": {
        "colab": {
          "base_uri": "https://localhost:8080/"
        },
        "id": "eJZyNbIpWPPy",
        "outputId": "e948d57a-0874-4703-f125-827b3d0bbe93"
      },
      "execution_count": null,
      "outputs": [
        {
          "output_type": "stream",
          "name": "stdout",
          "text": [
            "['1', '0']\n"
          ]
        }
      ]
    },
    {
      "cell_type": "code",
      "source": [
        "list_10=[1,2,3,4,5,'SIX',7,8,['a', 'b', 'c', 'd'],10,[4, 5, 6.7, 8.9, 'Hai', 'dog', 'Cat', True, 8, False, 100]]\n",
        "print(list_10[10][6])\n",
        "print(list_10[5])"
      ],
      "metadata": {
        "colab": {
          "base_uri": "https://localhost:8080/"
        },
        "id": "X7QR073BgXIH",
        "outputId": "19762fb3-a1ca-4884-c8b8-36ebdae403fa"
      },
      "execution_count": null,
      "outputs": [
        {
          "output_type": "stream",
          "name": "stdout",
          "text": [
            "Cat\n",
            "SIX\n"
          ]
        }
      ]
    },
    {
      "cell_type": "code",
      "source": [
        "List_3 = [1,2,3,4,5,'SIX',7,8,10]\n",
        "List_4 = ['a', 'b', 'c', 'd']\n",
        "List_5 = [4, 5, 6.7, 8.9, 'Hai', 'dog', 'cat', True, 8, False, 100]\n",
        "\n",
        "List_3.insert(8,List_4)\n",
        "List_3.insert(10,List_5)\n",
        "\n",
        "print(List_3)"
      ],
      "metadata": {
        "colab": {
          "base_uri": "https://localhost:8080/"
        },
        "id": "E3umIl4bqG6K",
        "outputId": "be08695d-0058-4aa7-b6b0-0bd2acebf65f"
      },
      "execution_count": null,
      "outputs": [
        {
          "output_type": "stream",
          "name": "stdout",
          "text": [
            "[1, 2, 3, 4, 5, 'SIX', 7, 8, ['a', 'b', 'c', 'd'], 10, [4, 5, 6.7, 8.9, 'Hai', 'dog', 'cat', True, 8, False, 100]]\n"
          ]
        }
      ]
    },
    {
      "cell_type": "code",
      "source": [
        "val_1 = True,False\n",
        "list_32 = list(str(val_1))\n",
        "print(list_32)"
      ],
      "metadata": {
        "colab": {
          "base_uri": "https://localhost:8080/"
        },
        "id": "sxxDlKgKqqla",
        "outputId": "f0dd0817-52ca-4d65-a5d3-59afc7e3d567"
      },
      "execution_count": null,
      "outputs": [
        {
          "output_type": "stream",
          "name": "stdout",
          "text": [
            "['(', 'T', 'r', 'u', 'e', ',', ' ', 'F', 'a', 'l', 's', 'e', ')']\n"
          ]
        }
      ]
    },
    {
      "cell_type": "code",
      "source": [
        "val = 6382837725\n",
        "list_3 = list(str(val))\n",
        "print(list_3)"
      ],
      "metadata": {
        "colab": {
          "base_uri": "https://localhost:8080/"
        },
        "id": "gz2F9Aftjg51",
        "outputId": "dafe4036-8a49-4093-acb5-cf4de2ae306b"
      },
      "execution_count": null,
      "outputs": [
        {
          "output_type": "stream",
          "name": "stdout",
          "text": [
            "['6', '3', '8', '2', '8', '3', '7', '7', '2', '5']\n"
          ]
        }
      ]
    },
    {
      "cell_type": "code",
      "source": [
        "cat = List_3 + list_3\n",
        "\n",
        "cat"
      ],
      "metadata": {
        "colab": {
          "base_uri": "https://localhost:8080/"
        },
        "id": "wXnmkk5Ukbxq",
        "outputId": "d6f17219-28ba-4712-90cc-8799bf77b109"
      },
      "execution_count": null,
      "outputs": [
        {
          "output_type": "execute_result",
          "data": {
            "text/plain": [
              "[1,\n",
              " 2,\n",
              " 3,\n",
              " 4,\n",
              " 5,\n",
              " 'SIX',\n",
              " 7,\n",
              " 8,\n",
              " ['a', 'b', 'c', 'd'],\n",
              " 10,\n",
              " [4, 5, 6.7, 8.9, 'Hai', 'dog', 'cat', True, 8, False, 100],\n",
              " '6',\n",
              " '3',\n",
              " '8',\n",
              " '2',\n",
              " '8',\n",
              " '3',\n",
              " '7',\n",
              " '7',\n",
              " '2',\n",
              " '5']"
            ]
          },
          "metadata": {},
          "execution_count": 39
        }
      ]
    },
    {
      "cell_type": "code",
      "source": [
        "tup_1 = (1,2,3,'kani','Cat','Meow',True,102.56,False)\n",
        "\n",
        "tup_2 = ('second','tuple')\n",
        "\n",
        "print(f\"the type is {type(tup_1)}\")\n",
        "\n",
        "print(f\"Indexing {tup_1[1]}\")\n",
        "\n",
        "print(f\"Slicing {tup_1[1:5]}\")\n",
        "\n",
        "print(f\"Slicing{tup_1[:]}\")\n",
        "\n",
        "print(f\"Index of cat is {tup_1.index('Cat')}\")\n",
        "\n",
        "print(f\"count of the number 102.56 is {tup_1.count(102.56)}\")\n",
        "\n",
        "print(f\"Lenght of the tuple is {len(tup_1)}\")\n",
        "\n",
        "tup_1 = tup_1 + tup_2\n",
        "\n",
        "print(f\"Concat of the tuple {tup_1}\")\n",
        "\n",
        "print(f\"Repitation of the tuple{tup_1*5}\")\n"
      ],
      "metadata": {
        "colab": {
          "base_uri": "https://localhost:8080/"
        },
        "id": "OxqZ9PUtkhj8",
        "outputId": "bfa17c58-c196-42d6-8ad0-ea62163c0838"
      },
      "execution_count": null,
      "outputs": [
        {
          "output_type": "stream",
          "name": "stdout",
          "text": [
            "the type is <class 'tuple'>\n",
            "Indexing 2\n",
            "Slicing (2, 3, 'kani', 'Cat')\n",
            "Slicing(1, 2, 3, 'kani', 'Cat', 'Meow', True, 102.56, False)\n",
            "Index of cat is 4\n",
            "count of the number 102.56 is 1\n",
            "Lenght of the tuple is 9\n",
            "Concat of the tuple (1, 2, 3, 'kani', 'Cat', 'Meow', True, 102.56, False, 'second', 'tuple')\n",
            "Repitation of the tuple(1, 2, 3, 'kani', 'Cat', 'Meow', True, 102.56, False, 'second', 'tuple', 1, 2, 3, 'kani', 'Cat', 'Meow', True, 102.56, False, 'second', 'tuple', 1, 2, 3, 'kani', 'Cat', 'Meow', True, 102.56, False, 'second', 'tuple', 1, 2, 3, 'kani', 'Cat', 'Meow', True, 102.56, False, 'second', 'tuple', 1, 2, 3, 'kani', 'Cat', 'Meow', True, 102.56, False, 'second', 'tuple')\n"
          ]
        }
      ]
    },
    {
      "cell_type": "code",
      "source": [
        "tup_3 = (1,2,3,4,5,5,6,7,8,9,10)\n",
        "\n",
        "print(f\"Max of the tuple is {max(tup_3)}\")\n",
        "\n",
        "print(f\"Min of the tuple is {min(tup_3)}\")\n",
        "\n",
        "print(f\"Sum of the tuple is {sum(tup_3)}\")"
      ],
      "metadata": {
        "colab": {
          "base_uri": "https://localhost:8080/"
        },
        "id": "XGfpNrgIvZSe",
        "outputId": "b3735c77-5023-4b70-c19a-ad9f916090b0"
      },
      "execution_count": null,
      "outputs": [
        {
          "output_type": "stream",
          "name": "stdout",
          "text": [
            "Max of the tuple is 10\n",
            "Min of the tuple is 1\n",
            "Sum of the tuple is 60\n"
          ]
        }
      ]
    },
    {
      "cell_type": "code",
      "source": [
        "# Write a Python program to count the number of times a specific element appears in a tuple.\n",
        "\n",
        "tup_3 = (1,2,3,4,5,5,6,7,8,9,10)\n",
        "\n",
        "print(tup_3.count(5))"
      ],
      "metadata": {
        "id": "gGiExfggzR3K",
        "colab": {
          "base_uri": "https://localhost:8080/"
        },
        "outputId": "94fd7880-aed4-4a4f-e6b7-10e995ab6963"
      },
      "execution_count": null,
      "outputs": [
        {
          "output_type": "stream",
          "name": "stdout",
          "text": [
            "2\n"
          ]
        }
      ]
    },
    {
      "cell_type": "code",
      "source": [
        "# Write a Python function that takes a list and converts it into a tuple.\n",
        "\n",
        "Meow = [1,2,3,4,5,6,7,8,9,10]\n",
        "\n",
        "print(type(Meow))\n",
        "\n",
        "hello = tuple(Meow)\n",
        "\n",
        "print(tuple(Meow))\n"
      ],
      "metadata": {
        "colab": {
          "base_uri": "https://localhost:8080/"
        },
        "id": "nf_f8u7gNaUW",
        "outputId": "e7d9b923-f389-42f9-e7c5-6be961814da3"
      },
      "execution_count": null,
      "outputs": [
        {
          "output_type": "stream",
          "name": "stdout",
          "text": [
            "<class 'list'>\n",
            "(1, 2, 3, 4, 5, 6, 7, 8, 9, 10)\n"
          ]
        }
      ]
    },
    {
      "cell_type": "code",
      "source": [
        "print(type(hello))"
      ],
      "metadata": {
        "colab": {
          "base_uri": "https://localhost:8080/"
        },
        "id": "o1B5f_NNOHtk",
        "outputId": "1f0e7a9c-4fde-48a1-8028-6cc063697f85"
      },
      "execution_count": null,
      "outputs": [
        {
          "output_type": "stream",
          "name": "stdout",
          "text": [
            "<class 'tuple'>\n"
          ]
        }
      ]
    },
    {
      "cell_type": "code",
      "source": [
        "# keys(),values(),items(),get(),copy(),update()\n",
        "\n",
        "my_dict = {'Name':\"Kani\",'Age':20,'Gender':\"Male\",'Course':\"DA-DS\"}\n",
        "\n",
        "my_dict"
      ],
      "metadata": {
        "id": "PtjOrsK_OQLs",
        "colab": {
          "base_uri": "https://localhost:8080/"
        },
        "outputId": "679c6f63-e6ac-4911-e7c1-f10a1086e0a7"
      },
      "execution_count": null,
      "outputs": [
        {
          "output_type": "execute_result",
          "data": {
            "text/plain": [
              "{'Name': 'Kani', 'Age': 20, 'Gender': 'Male', 'Course': 'DA-DS'}"
            ]
          },
          "metadata": {},
          "execution_count": 3
        }
      ]
    },
    {
      "cell_type": "code",
      "source": [
        "my_dict['Name']"
      ],
      "metadata": {
        "colab": {
          "base_uri": "https://localhost:8080/",
          "height": 36
        },
        "id": "muGnmoHFrmtq",
        "outputId": "a07785d6-ee8d-42da-ece1-5c6129177f97"
      },
      "execution_count": null,
      "outputs": [
        {
          "output_type": "execute_result",
          "data": {
            "text/plain": [
              "'Kani'"
            ],
            "application/vnd.google.colaboratory.intrinsic+json": {
              "type": "string"
            }
          },
          "metadata": {},
          "execution_count": 4
        }
      ]
    },
    {
      "cell_type": "code",
      "source": [
        "my_dict[\"Age\"]"
      ],
      "metadata": {
        "colab": {
          "base_uri": "https://localhost:8080/"
        },
        "id": "Y2lR8sljrpZQ",
        "outputId": "146ad8b4-1b34-487d-af3d-4ea3c3e17fb4"
      },
      "execution_count": null,
      "outputs": [
        {
          "output_type": "execute_result",
          "data": {
            "text/plain": [
              "20"
            ]
          },
          "metadata": {},
          "execution_count": 5
        }
      ]
    },
    {
      "cell_type": "code",
      "source": [
        "my_dict[\"Course\"]"
      ],
      "metadata": {
        "colab": {
          "base_uri": "https://localhost:8080/",
          "height": 36
        },
        "id": "SnUUeyeCrrfd",
        "outputId": "055baedc-154c-408e-da24-b3f9e017ff9a"
      },
      "execution_count": null,
      "outputs": [
        {
          "output_type": "execute_result",
          "data": {
            "text/plain": [
              "'DA-DS'"
            ],
            "application/vnd.google.colaboratory.intrinsic+json": {
              "type": "string"
            }
          },
          "metadata": {},
          "execution_count": 6
        }
      ]
    },
    {
      "cell_type": "code",
      "source": [
        "my_dict[\"Age\"] = 19\n",
        "\n",
        "my_dict"
      ],
      "metadata": {
        "colab": {
          "base_uri": "https://localhost:8080/"
        },
        "id": "YSkyz4abrtwq",
        "outputId": "5d7af7dc-1a2c-4b05-8830-62cd71d3efc5"
      },
      "execution_count": null,
      "outputs": [
        {
          "output_type": "execute_result",
          "data": {
            "text/plain": [
              "{'Name': 'Kani', 'Age': 19, 'Gender': 'Male', 'Course': 'DA-DS'}"
            ]
          },
          "metadata": {},
          "execution_count": 7
        }
      ]
    },
    {
      "cell_type": "code",
      "source": [
        "my_dict.keys()"
      ],
      "metadata": {
        "colab": {
          "base_uri": "https://localhost:8080/"
        },
        "id": "c7Rb1HuLsJD2",
        "outputId": "7b6baea9-0105-498c-bfe5-b0a81e5f53f0"
      },
      "execution_count": null,
      "outputs": [
        {
          "output_type": "execute_result",
          "data": {
            "text/plain": [
              "dict_keys(['Name', 'Age', 'Gender', 'Course'])"
            ]
          },
          "metadata": {},
          "execution_count": 8
        }
      ]
    },
    {
      "cell_type": "code",
      "source": [
        "my_dict.values()"
      ],
      "metadata": {
        "colab": {
          "base_uri": "https://localhost:8080/"
        },
        "id": "qnLcEyOlsOkW",
        "outputId": "62aab6be-129d-4ab6-e38b-b352b7d46398"
      },
      "execution_count": null,
      "outputs": [
        {
          "output_type": "execute_result",
          "data": {
            "text/plain": [
              "dict_values(['Kani', 19, 'Male', 'DA-DS'])"
            ]
          },
          "metadata": {},
          "execution_count": 9
        }
      ]
    },
    {
      "cell_type": "code",
      "source": [
        "my_dict.items()"
      ],
      "metadata": {
        "colab": {
          "base_uri": "https://localhost:8080/"
        },
        "id": "dBiSQ3I1sStG",
        "outputId": "5893d803-a290-480b-ee86-f046d52633c8"
      },
      "execution_count": null,
      "outputs": [
        {
          "output_type": "execute_result",
          "data": {
            "text/plain": [
              "dict_items([('Name', 'Kani'), ('Age', 19), ('Gender', 'Male'), ('Course', 'DA-DS')])"
            ]
          },
          "metadata": {},
          "execution_count": 10
        }
      ]
    },
    {
      "cell_type": "code",
      "source": [
        "my_dict.get('Gender')"
      ],
      "metadata": {
        "colab": {
          "base_uri": "https://localhost:8080/",
          "height": 36
        },
        "id": "qvGcvLDQsVS7",
        "outputId": "86aab013-370c-412e-dc90-7d4d39b299de"
      },
      "execution_count": null,
      "outputs": [
        {
          "output_type": "execute_result",
          "data": {
            "text/plain": [
              "'Male'"
            ],
            "application/vnd.google.colaboratory.intrinsic+json": {
              "type": "string"
            }
          },
          "metadata": {},
          "execution_count": 16
        }
      ]
    },
    {
      "cell_type": "code",
      "source": [
        "second_dict = my_dict.copy()\n",
        "\n",
        "second_dict"
      ],
      "metadata": {
        "colab": {
          "base_uri": "https://localhost:8080/"
        },
        "id": "gloAVNV7sZs5",
        "outputId": "4d341cb2-5420-4c41-ff19-df7edb40bf89"
      },
      "execution_count": null,
      "outputs": [
        {
          "output_type": "execute_result",
          "data": {
            "text/plain": [
              "{'Name': 'Kani', 'Age': 19, 'Gender': 'Male', 'Course': 'DA-DS'}"
            ]
          },
          "metadata": {},
          "execution_count": 18
        }
      ]
    },
    {
      "cell_type": "code",
      "source": [
        "my_dict.update({'Course':\"DA-Python\"})\n",
        "\n",
        "my_dict"
      ],
      "metadata": {
        "colab": {
          "base_uri": "https://localhost:8080/"
        },
        "id": "1MDglKRitTZB",
        "outputId": "d5977c09-773f-4c95-8624-ffcf27acfc7e"
      },
      "execution_count": null,
      "outputs": [
        {
          "output_type": "execute_result",
          "data": {
            "text/plain": [
              "{'Name': 'Kani', 'Age': 19, 'Gender': 'Male', 'Course': 'DA-Python'}"
            ]
          },
          "metadata": {},
          "execution_count": 19
        }
      ]
    },
    {
      "cell_type": "code",
      "source": [
        "my_new_dict = {1: 'ab',\n",
        " 5: 'Five',\n",
        " 2: 'Two',\n",
        " 3: 'third',\n",
        " 4: 'Four',\n",
        " 'a': [11, 22, 33, 44],\n",
        " 'b': (55, 66, 77, 88),\n",
        " 'Fruit': 'mango',\n",
        " 'age': {'y': 6, 'e': [8, {'s': 56, 't': 78}]}}"
      ],
      "metadata": {
        "id": "vLvTmaIWtdOU"
      },
      "execution_count": null,
      "outputs": []
    },
    {
      "cell_type": "code",
      "source": [
        "my_new_dict.pop(4)"
      ],
      "metadata": {
        "colab": {
          "base_uri": "https://localhost:8080/",
          "height": 36
        },
        "id": "kqryEE3JxiSf",
        "outputId": "cd624f23-a12c-4582-fedd-5aa8724d2804"
      },
      "execution_count": null,
      "outputs": [
        {
          "output_type": "execute_result",
          "data": {
            "text/plain": [
              "'Four'"
            ],
            "application/vnd.google.colaboratory.intrinsic+json": {
              "type": "string"
            }
          },
          "metadata": {},
          "execution_count": 21
        }
      ]
    },
    {
      "cell_type": "code",
      "source": [
        "my_new_dict"
      ],
      "metadata": {
        "colab": {
          "base_uri": "https://localhost:8080/"
        },
        "id": "KQF31WpKxs1T",
        "outputId": "d1198a37-82c6-473d-ce67-9a16e7c9a14d"
      },
      "execution_count": null,
      "outputs": [
        {
          "output_type": "execute_result",
          "data": {
            "text/plain": [
              "{1: 'ab',\n",
              " 5: 'Five',\n",
              " 2: 'Two',\n",
              " 3: 'third',\n",
              " 'a': [11, 22, 33, 44],\n",
              " 'b': (55, 66, 77, 88),\n",
              " 'Fruit': 'mango',\n",
              " 'age': {'y': 6, 'e': [8, {'s': 56, 't': 78}]}}"
            ]
          },
          "metadata": {},
          "execution_count": 22
        }
      ]
    },
    {
      "cell_type": "code",
      "source": [
        "my_new_dict.popitem()"
      ],
      "metadata": {
        "colab": {
          "base_uri": "https://localhost:8080/"
        },
        "id": "jkGaiW2XxvU1",
        "outputId": "29eb8a2e-f572-46d0-831f-f26389a666ac"
      },
      "execution_count": null,
      "outputs": [
        {
          "output_type": "execute_result",
          "data": {
            "text/plain": [
              "('age', {'y': 6, 'e': [8, {'s': 56, 't': 78}]})"
            ]
          },
          "metadata": {},
          "execution_count": 23
        }
      ]
    },
    {
      "cell_type": "code",
      "source": [
        "list1 = [1,2,3,4,5]\n",
        "list2 = [i*2 for i in list1] # double the value\n",
        "print(list2)\n",
        "print(type(list1))"
      ],
      "metadata": {
        "colab": {
          "base_uri": "https://localhost:8080/"
        },
        "id": "IwREa0TuyEHU",
        "outputId": "1906009e-d0b5-43e7-a8cf-7dedf4da5839"
      },
      "execution_count": null,
      "outputs": [
        {
          "output_type": "stream",
          "name": "stdout",
          "text": [
            "[2, 4, 6, 8, 10]\n",
            "<class 'list'>\n"
          ]
        }
      ]
    },
    {
      "cell_type": "code",
      "source": [
        "dict_1 = {'a':10 , 'b':'AB' , 'c':30 , 'd':'CD' , 'e':50}\n",
        "dict_2 = {k:v*3 for (k,v) in dict_1.items()} # Multiply all values by 3\n",
        "dict_2"
      ],
      "metadata": {
        "colab": {
          "base_uri": "https://localhost:8080/"
        },
        "id": "20WJMKkf38GF",
        "outputId": "83319d13-f414-4eb4-cd69-40ad696dcc48"
      },
      "execution_count": null,
      "outputs": [
        {
          "output_type": "execute_result",
          "data": {
            "text/plain": [
              "{'a': 30, 'b': 'ABABAB', 'c': 90, 'd': 'CDCDCD', 'e': 150}"
            ]
          },
          "metadata": {},
          "execution_count": 25
        }
      ]
    },
    {
      "cell_type": "code",
      "source": [
        "d4 = {1:5,12:45,3:23,4:19}\n",
        "sorted(d4.items())"
      ],
      "metadata": {
        "colab": {
          "base_uri": "https://localhost:8080/"
        },
        "id": "CCBtHceG3-st",
        "outputId": "74f98cd2-94f4-40d9-debd-1b42b8e496ec"
      },
      "execution_count": null,
      "outputs": [
        {
          "output_type": "execute_result",
          "data": {
            "text/plain": [
              "[(1, 5), (3, 23), (4, 19), (12, 45)]"
            ]
          },
          "metadata": {},
          "execution_count": 26
        }
      ]
    },
    {
      "cell_type": "code",
      "source": [
        "str1 = \"PYTHON\"\n",
        "dict_1 = {k:v for (k,v) in enumerate(str1)}\n",
        "dict_1\n",
        "str1 = \"abcdefghij\"\n",
        "dict_1 = {i:i.upper() for i in str1}\n",
        "dict_1"
      ],
      "metadata": {
        "colab": {
          "base_uri": "https://localhost:8080/"
        },
        "id": "3jowZjIz4AHs",
        "outputId": "fd7297c3-9009-4bc0-b01b-a7948b08edc7"
      },
      "execution_count": null,
      "outputs": [
        {
          "output_type": "execute_result",
          "data": {
            "text/plain": [
              "{'a': 'A',\n",
              " 'b': 'B',\n",
              " 'c': 'C',\n",
              " 'd': 'D',\n",
              " 'e': 'E',\n",
              " 'f': 'F',\n",
              " 'g': 'G',\n",
              " 'h': 'H',\n",
              " 'i': 'I',\n",
              " 'j': 'J'}"
            ]
          },
          "metadata": {},
          "execution_count": 27
        }
      ]
    },
    {
      "cell_type": "code",
      "source": [
        "def calc():\n",
        "  x = int(input(\"Enter the value of x: \"))\n",
        "  op = input(\"Enter the operator: \")\n",
        "  y = int(input(\"Enter the value of y: \"))\n",
        "\n",
        "  if op == \"+\":\n",
        "    print(f\"The additon of the two number is {x+y}\")\n",
        "  elif op == \"-\":\n",
        "    print(f\"The Subtraction of the two number is {x-y}\")\n",
        "  elif op == \"*\":\n",
        "    print(f\"The Multipliation of the two numbers is {x*y}\")\n",
        "  elif op == \"/\":\n",
        "    print(f\"The Division of the two number is {x/y}\")\n",
        "\n",
        "calc()\n"
      ],
      "metadata": {
        "colab": {
          "base_uri": "https://localhost:8080/"
        },
        "id": "ymGY0O9dAPE0",
        "outputId": "9c8daad9-54c4-4f58-d70d-3dde192c3ff4"
      },
      "execution_count": null,
      "outputs": [
        {
          "output_type": "stream",
          "name": "stdout",
          "text": [
            "Enter the value of x: 50\n",
            "Enter the operator: *\n",
            "Enter the value of y: 5\n",
            "The Multipliation of the two numbers is 250\n"
          ]
        }
      ]
    },
    {
      "cell_type": "code",
      "source": [
        "def concat(Default = \"meow\"):\n",
        "  print(f\"hello {Default}\")\n",
        "\n",
        "concat()"
      ],
      "metadata": {
        "colab": {
          "base_uri": "https://localhost:8080/"
        },
        "id": "maxmPA9yAg5B",
        "outputId": "d5bd57da-ce20-473e-f3be-6c6baec07ce8"
      },
      "execution_count": null,
      "outputs": [
        {
          "output_type": "stream",
          "name": "stdout",
          "text": [
            "hello meow\n"
          ]
        }
      ]
    },
    {
      "cell_type": "code",
      "source": [
        "var = 10\n",
        "\n",
        "def hello(a):\n",
        "  var = 20\n",
        "  print(f\"This is the local variable {a} {var}\")\n",
        "hello(a = \"hello\")\n",
        "\n",
        "print(f\"This is a global varible {var}\")"
      ],
      "metadata": {
        "colab": {
          "base_uri": "https://localhost:8080/"
        },
        "id": "2ZvND1b7FQ9q",
        "outputId": "a205339c-a209-4fde-cfe8-17b6d91001e6"
      },
      "execution_count": null,
      "outputs": [
        {
          "output_type": "stream",
          "name": "stdout",
          "text": [
            "This is the local variable hello 20\n",
            "This is a global varible 10\n"
          ]
        }
      ]
    },
    {
      "cell_type": "code",
      "source": [
        "def cat(*args):\n",
        "  return (args)\n",
        "\n",
        "cat(\"hello\",\"world\",\"by\",\"Kani\")"
      ],
      "metadata": {
        "colab": {
          "base_uri": "https://localhost:8080/"
        },
        "id": "5JwfVJzNLqH_",
        "outputId": "2765f52e-efc0-4b04-92f7-cc17d193732c"
      },
      "execution_count": null,
      "outputs": [
        {
          "output_type": "execute_result",
          "data": {
            "text/plain": [
              "('hello', 'world', 'by', 'Kani')"
            ]
          },
          "metadata": {},
          "execution_count": 26
        }
      ]
    },
    {
      "cell_type": "code",
      "source": [
        "def UserDetails(**kwargs):\n",
        "    print(kwargs)\n",
        "UserDetails(Name='Kani' , ID = 2145 , Pincode= 41102 , Age = 20, Country= 'India')"
      ],
      "metadata": {
        "colab": {
          "base_uri": "https://localhost:8080/"
        },
        "id": "c-D3XnDlPfrX",
        "outputId": "f21aab64-eda2-436f-cdec-3860aaaa3e25"
      },
      "execution_count": null,
      "outputs": [
        {
          "output_type": "stream",
          "name": "stdout",
          "text": [
            "{'Name': 'Kani', 'ID': 2145, 'Pincode': 41102, 'Age': 20, 'Country': 'India'}\n"
          ]
        }
      ]
    },
    {
      "cell_type": "code",
      "source": [
        "mul = lambda x,y : x*y\n",
        "\n",
        "mul(2,3)"
      ],
      "metadata": {
        "colab": {
          "base_uri": "https://localhost:8080/"
        },
        "id": "3G5ywmgzUOXX",
        "outputId": "d62b70d2-af6d-403a-c86a-8426c46480d0"
      },
      "execution_count": null,
      "outputs": [
        {
          "output_type": "execute_result",
          "data": {
            "text/plain": [
              "6"
            ]
          },
          "metadata": {},
          "execution_count": 28
        }
      ]
    },
    {
      "cell_type": "code",
      "source": [
        "a = int(input(\"Enter a number A : \"))\n",
        "b = int(input(\"Enter a number B : \"))\n",
        "\n",
        "def swap(a, b):\n",
        "    return b, a  # return the swapped values\n",
        "\n",
        "a, b = swap(a, b)  # update original variables with swapped values\n",
        "print(\"a:\", a)\n",
        "print(\"b:\", b)"
      ],
      "metadata": {
        "colab": {
          "base_uri": "https://localhost:8080/"
        },
        "id": "FWhek-4IWXwh",
        "outputId": "317c545b-4eea-4412-c727-c008ced19598"
      },
      "execution_count": 2,
      "outputs": [
        {
          "output_type": "stream",
          "name": "stdout",
          "text": [
            "Enter a number A : 10\n",
            "Enter a number B : 20\n",
            "a: 10\n",
            "b: 20\n"
          ]
        }
      ]
    },
    {
      "cell_type": "code",
      "source": [
        "list1 = [1,2,3,4,5,6,7,8,9,10]\n",
        "\n",
        "# The filter function filters \"list1\" and returns all odd numbers using lambda function\n",
        "\n",
        "odd_num = list(filter(lambda n: n%2 == 0 ,list1))\n",
        "print(odd_num)"
      ],
      "metadata": {
        "id": "k6MYpIFlfXa7",
        "colab": {
          "base_uri": "https://localhost:8080/"
        },
        "outputId": "f6888297-6c28-4c68-a6dd-1ff2fd1628ab"
      },
      "execution_count": 5,
      "outputs": [
        {
          "output_type": "stream",
          "name": "stdout",
          "text": [
            "[2, 4, 6, 8, 10]\n"
          ]
        }
      ]
    },
    {
      "cell_type": "code",
      "source": [
        "def three(n):\n",
        "\n",
        "    return n*3\n",
        "\n",
        "list1 = [1, 2, 3, 5.9, \"Hello\", \"Kani\",\"Meow\"]\n",
        "\n",
        "doubles = list(map(three,list1))\n",
        "\n",
        "print(doubles)"
      ],
      "metadata": {
        "colab": {
          "base_uri": "https://localhost:8080/"
        },
        "id": "E5YnZuWnLcA4",
        "outputId": "5178d94e-acab-4bf4-e175-c202a0267a54"
      },
      "execution_count": 11,
      "outputs": [
        {
          "output_type": "stream",
          "name": "stdout",
          "text": [
            "[3, 6, 9, 17.700000000000003, 'HelloHelloHello', 'KaniKaniKani', 'MeowMeowMeow']\n"
          ]
        }
      ]
    },
    {
      "cell_type": "code",
      "source": [
        "from functools import reduce\n",
        "\n",
        "list1 = [10,2,3,4]\n",
        "\n",
        "def sub(a,b):\n",
        "    return a-b\n",
        "\n",
        "subtract = reduce(sub,list1)"
      ],
      "metadata": {
        "id": "rBeegGhhOjgn"
      },
      "execution_count": 12,
      "outputs": []
    },
    {
      "cell_type": "code",
      "source": [
        "import array as ar\n",
        "\n",
        "rat = ar.array('i',[10,5,17,63,59,48,43,14,763,45])\n",
        "\n",
        "print(rat)\n",
        "\n",
        "for i in rat:\n",
        "  print(i)"
      ],
      "metadata": {
        "colab": {
          "base_uri": "https://localhost:8080/"
        },
        "id": "-9IytrrmRx4G",
        "outputId": "7d00b7cf-5041-45b9-93be-689db8cab531"
      },
      "execution_count": 16,
      "outputs": [
        {
          "output_type": "stream",
          "name": "stdout",
          "text": [
            "array('i', [10, 5, 17, 63, 59, 48, 43, 14, 763, 45])\n",
            "10\n",
            "5\n",
            "17\n",
            "63\n",
            "59\n",
            "48\n",
            "43\n",
            "14\n",
            "763\n",
            "45\n"
          ]
        }
      ]
    },
    {
      "cell_type": "code",
      "source": [
        "import array as arr\n",
        "\n",
        "int_array = arr.array('i', [1,2,3,4,5,6])\n",
        "\n",
        "# Accessing array elements\n",
        "\n",
        "print(int_array[1:5:2])\n",
        "print(int_array[-5:-1])\n",
        "print(int_array[:5])"
      ],
      "metadata": {
        "colab": {
          "base_uri": "https://localhost:8080/"
        },
        "id": "lr6PGlZaT6Mr",
        "outputId": "1106ed79-fe87-4985-dc02-fb666f4fee08"
      },
      "execution_count": 18,
      "outputs": [
        {
          "output_type": "stream",
          "name": "stdout",
          "text": [
            "array('i', [2, 4])\n",
            "array('i', [2, 3, 4, 5])\n",
            "array('i', [1, 2, 3, 4, 5])\n"
          ]
        }
      ]
    },
    {
      "cell_type": "code",
      "source": [
        "import array as arr\n",
        "\n",
        "val_of_array = arr.array('i',[1,2,3,4,5,6,7,8,9,10,11,12,13,14,15,16,17,18,19,20])\n",
        "\n",
        "print(val_of_array[1:19:2])\n",
        "\n",
        "odd_num_1 = list(filter(lambda n: n%2 == 0 ,val_of_array))\n",
        "\n",
        "print(odd_num_1)"
      ],
      "metadata": {
        "colab": {
          "base_uri": "https://localhost:8080/"
        },
        "id": "9C5GLjTMWDut",
        "outputId": "67200943-74c8-472b-e192-4bb3ff204055"
      },
      "execution_count": 23,
      "outputs": [
        {
          "output_type": "stream",
          "name": "stdout",
          "text": [
            "array('i', [2, 4, 6, 8, 10, 12, 14, 16, 18])\n",
            "[2, 4, 6, 8, 10, 12, 14, 16, 18, 20]\n"
          ]
        }
      ]
    },
    {
      "cell_type": "code",
      "source": [
        "val_of_array.append(21)\n",
        "\n",
        "print(val_of_array)"
      ],
      "metadata": {
        "colab": {
          "base_uri": "https://localhost:8080/"
        },
        "id": "w2OI1tvzWf0R",
        "outputId": "7924e56b-909a-468b-c703-c0757eef5dfd"
      },
      "execution_count": 24,
      "outputs": [
        {
          "output_type": "stream",
          "name": "stdout",
          "text": [
            "array('i', [1, 2, 3, 4, 5, 6, 7, 8, 9, 10, 11, 12, 13, 14, 15, 16, 17, 18, 19, 20, 21])\n"
          ]
        }
      ]
    },
    {
      "cell_type": "code",
      "source": [
        "import array as arr\n",
        "\n",
        "arr_1 = arr.array('i',[1,2,3,4,5])\n",
        "\n",
        "arr_2 = arr.array('i',[6,7,8,9,10])\n",
        "\n",
        "arr_1.extend(arr_2)\n",
        "\n",
        "print(arr_1)"
      ],
      "metadata": {
        "colab": {
          "base_uri": "https://localhost:8080/"
        },
        "id": "W4XZnjLVb65r",
        "outputId": "87d74086-826f-4999-be76-8ea1ee487f61"
      },
      "execution_count": 25,
      "outputs": [
        {
          "output_type": "stream",
          "name": "stdout",
          "text": [
            "array('i', [1, 2, 3, 4, 5, 6, 7, 8, 9, 10])\n"
          ]
        }
      ]
    },
    {
      "cell_type": "code",
      "source": [],
      "metadata": {
        "id": "nOIhkjMTcXPX"
      },
      "execution_count": null,
      "outputs": []
    }
  ]
}